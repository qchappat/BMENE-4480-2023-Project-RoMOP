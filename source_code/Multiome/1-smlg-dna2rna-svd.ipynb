{
 "cells": [
  {
   "cell_type": "code",
   "execution_count": 1,
   "id": "30567478",
   "metadata": {
    "execution": {
     "iopub.execute_input": "2023-04-11T16:49:26.728291Z",
     "iopub.status.busy": "2023-04-11T16:49:26.727876Z",
     "iopub.status.idle": "2023-04-11T16:49:28.070058Z",
     "shell.execute_reply": "2023-04-11T16:49:28.068788Z"
    },
    "papermill": {
     "duration": 1.352934,
     "end_time": "2023-04-11T16:49:28.073297",
     "exception": false,
     "start_time": "2023-04-11T16:49:26.720363",
     "status": "completed"
    },
    "tags": []
   },
   "outputs": [],
   "source": [
    "# Import packages\n",
    "import numpy as np\n",
    "import pandas as pd\n",
    "import scipy.sparse\n",
    "from sklearn.preprocessing import normalize\n",
    "from sklearn.decomposition import TruncatedSVD\n",
    "from numpy import savez_compressed"
   ]
  },
  {
   "cell_type": "code",
   "execution_count": 2,
   "id": "52f81223",
   "metadata": {
    "execution": {
     "iopub.execute_input": "2023-04-11T16:49:28.084784Z",
     "iopub.status.busy": "2023-04-11T16:49:28.083908Z",
     "iopub.status.idle": "2023-04-11T16:49:28.090583Z",
     "shell.execute_reply": "2023-04-11T16:49:28.089479Z"
    },
    "papermill": {
     "duration": 0.015049,
     "end_time": "2023-04-11T16:49:28.093058",
     "exception": false,
     "start_time": "2023-04-11T16:49:28.078009",
     "status": "completed"
    },
    "tags": []
   },
   "outputs": [],
   "source": [
    "# garbage collector\n",
    "import gc"
   ]
  },
  {
   "cell_type": "code",
   "execution_count": 3,
   "id": "53410438",
   "metadata": {
    "execution": {
     "iopub.execute_input": "2023-04-11T16:49:28.104601Z",
     "iopub.status.busy": "2023-04-11T16:49:28.103771Z",
     "iopub.status.idle": "2023-04-11T16:49:29.204679Z",
     "shell.execute_reply": "2023-04-11T16:49:29.203360Z"
    },
    "papermill": {
     "duration": 1.109535,
     "end_time": "2023-04-11T16:49:29.207488",
     "exception": false,
     "start_time": "2023-04-11T16:49:28.097953",
     "status": "completed"
    },
    "tags": []
   },
   "outputs": [
    {
     "name": "stdout",
     "output_type": "stream",
     "text": [
      "evaluation_ids.csv                     test_multi_inputs.h5\r\n",
      "metadata.csv                           train_cite_inputs.h5\r\n",
      "metadata_cite_day_2_donor_27678.csv    train_cite_targets.h5\r\n",
      "sample_submission.csv                  train_multi_inputs.h5\r\n",
      "test_cite_inputs.h5                    train_multi_targets.h5\r\n",
      "test_cite_inputs_day_2_donor_27678.h5\r\n"
     ]
    }
   ],
   "source": [
    "%ls ../input/open-problems-multimodal/"
   ]
  },
  {
   "cell_type": "code",
   "execution_count": 4,
   "id": "0ad76669",
   "metadata": {
    "execution": {
     "iopub.execute_input": "2023-04-11T16:49:29.220002Z",
     "iopub.status.busy": "2023-04-11T16:49:29.218848Z",
     "iopub.status.idle": "2023-04-11T16:49:30.310846Z",
     "shell.execute_reply": "2023-04-11T16:49:30.309056Z"
    },
    "papermill": {
     "duration": 1.101689,
     "end_time": "2023-04-11T16:49:30.314146",
     "exception": false,
     "start_time": "2023-04-11T16:49:29.212457",
     "status": "completed"
    },
    "tags": []
   },
   "outputs": [
    {
     "name": "stdout",
     "output_type": "stream",
     "text": [
      "evaluation.parquet                   train_cite_inputs_values.sparse.npz\r\n",
      "metadata.parquet                     train_cite_targets_idxcol.npz\r\n",
      "sample_submission.parquet            train_cite_targets_values.sparse.npz\r\n",
      "test_cite_inputs_idxcol.npz          train_multi_inputs_idxcol.npz\r\n",
      "test_cite_inputs_values.sparse.npz   train_multi_inputs_values.sparse.npz\r\n",
      "test_multi_inputs_idxcol.npz         train_multi_targets_idxcol.npz\r\n",
      "test_multi_inputs_values.sparse.npz  train_multi_targets_values.sparse.npz\r\n",
      "train_cite_inputs_idxcol.npz\r\n"
     ]
    }
   ],
   "source": [
    "%ls ../input/multimodal-single-cell-as-sparse-matrix/"
   ]
  },
  {
   "cell_type": "code",
   "execution_count": 5,
   "id": "45a60cd5",
   "metadata": {
    "execution": {
     "iopub.execute_input": "2023-04-11T16:49:30.326486Z",
     "iopub.status.busy": "2023-04-11T16:49:30.325949Z",
     "iopub.status.idle": "2023-04-11T16:50:56.866714Z",
     "shell.execute_reply": "2023-04-11T16:50:56.865599Z"
    },
    "papermill": {
     "duration": 86.550399,
     "end_time": "2023-04-11T16:50:56.869535",
     "exception": false,
     "start_time": "2023-04-11T16:49:30.319136",
     "status": "completed"
    },
    "tags": []
   },
   "outputs": [],
   "source": [
    "# Opening train sparse matrices data\n",
    "train_multi_inputs_values = scipy.sparse.load_npz(\"../input/multimodal-single-cell-as-sparse-matrix/train_multi_inputs_values.sparse.npz\")\n",
    "train_multi_targets_values = scipy.sparse.load_npz(\"../input/multimodal-single-cell-as-sparse-matrix/train_multi_targets_values.sparse.npz\")"
   ]
  },
  {
   "cell_type": "code",
   "execution_count": 8,
   "id": "ee00adad",
   "metadata": {
    "execution": {
     "iopub.execute_input": "2023-04-11T16:50:56.923893Z",
     "iopub.status.busy": "2023-04-11T16:50:56.922804Z",
     "iopub.status.idle": "2023-04-11T16:50:59.303437Z",
     "shell.execute_reply": "2023-04-11T16:50:59.302217Z"
    },
    "papermill": {
     "duration": 2.389559,
     "end_time": "2023-04-11T16:50:59.306341",
     "exception": false,
     "start_time": "2023-04-11T16:50:56.916782",
     "status": "completed"
    },
    "tags": []
   },
   "outputs": [
    {
     "data": {
      "text/plain": [
       "206"
      ]
     },
     "execution_count": 8,
     "metadata": {},
     "output_type": "execute_result"
    }
   ],
   "source": [
    "# Preprocessing\n",
    "normalize(train_multi_inputs_values, copy=False)\n",
    "gc.collect()"
   ]
  },
  {
   "cell_type": "code",
   "execution_count": 9,
   "id": "c54de278",
   "metadata": {
    "execution": {
     "iopub.execute_input": "2023-04-11T16:50:59.318461Z",
     "iopub.status.busy": "2023-04-11T16:50:59.317991Z",
     "iopub.status.idle": "2023-04-11T16:50:59.324534Z",
     "shell.execute_reply": "2023-04-11T16:50:59.322776Z"
    },
    "papermill": {
     "duration": 0.015896,
     "end_time": "2023-04-11T16:50:59.327373",
     "exception": false,
     "start_time": "2023-04-11T16:50:59.311477",
     "status": "completed"
    },
    "tags": []
   },
   "outputs": [
    {
     "name": "stdout",
     "output_type": "stream",
     "text": [
      "Starting SVD train_multi_inputs_values\n"
     ]
    }
   ],
   "source": [
    "print(\"Starting SVD train_multi_inputs_values\")"
   ]
  },
  {
   "cell_type": "code",
   "execution_count": 10,
   "id": "e7dc0b4c",
   "metadata": {
    "execution": {
     "iopub.execute_input": "2023-04-11T16:50:59.340480Z",
     "iopub.status.busy": "2023-04-11T16:50:59.339570Z",
     "iopub.status.idle": "2023-04-11T18:31:01.005711Z",
     "shell.execute_reply": "2023-04-11T18:31:01.003345Z"
    },
    "papermill": {
     "duration": 6001.692656,
     "end_time": "2023-04-11T18:31:01.025574",
     "exception": false,
     "start_time": "2023-04-11T16:50:59.332918",
     "status": "completed"
    },
    "tags": []
   },
   "outputs": [],
   "source": [
    "svd_inputs = TruncatedSVD(n_components=500, n_iter=10, random_state=42)\n",
    "train_multi_inputs_values = svd_inputs.fit_transform(train_multi_inputs_values)\n",
    "gc.collect()\n",
    "input_explained_variance_ratio = svd_inputs.explained_variance_ratio_"
   ]
  },
  {
   "cell_type": "code",
   "execution_count": 11,
   "id": "31a7bc22",
   "metadata": {
    "execution": {
     "iopub.execute_input": "2023-04-11T18:31:01.060881Z",
     "iopub.status.busy": "2023-04-11T18:31:01.060361Z",
     "iopub.status.idle": "2023-04-11T18:31:46.590819Z",
     "shell.execute_reply": "2023-04-11T18:31:46.588123Z"
    },
    "papermill": {
     "duration": 45.551767,
     "end_time": "2023-04-11T18:31:46.600720",
     "exception": false,
     "start_time": "2023-04-11T18:31:01.048953",
     "status": "completed"
    },
    "tags": []
   },
   "outputs": [],
   "source": [
    "savez_compressed('train_multi_input_500_svd.npz', train_multi_inputs_values)\n",
    "savez_compressed('train_multi_input_500_svd_VT.npz', svd_inputs.components_)\n",
    "savez_compressed('train_multi_input_500_svd_explained_variance_ratio.npz', input_explained_variance_ratio)"
   ]
  },
  {
   "cell_type": "code",
   "execution_count": 12,
   "id": "7f5deeeb",
   "metadata": {
    "execution": {
     "iopub.execute_input": "2023-04-11T18:31:46.620624Z",
     "iopub.status.busy": "2023-04-11T18:31:46.620109Z",
     "iopub.status.idle": "2023-04-11T18:31:46.956231Z",
     "shell.execute_reply": "2023-04-11T18:31:46.952438Z"
    },
    "papermill": {
     "duration": 0.355698,
     "end_time": "2023-04-11T18:31:46.967354",
     "exception": false,
     "start_time": "2023-04-11T18:31:46.611656",
     "status": "completed"
    },
    "tags": []
   },
   "outputs": [
    {
     "data": {
      "text/plain": [
       "42"
      ]
     },
     "execution_count": 12,
     "metadata": {},
     "output_type": "execute_result"
    }
   ],
   "source": [
    "del input_explained_variance_ratio\n",
    "del train_multi_inputs_values\n",
    "del svd_inputs\n",
    "gc.collect()"
   ]
  },
  {
   "cell_type": "code",
   "execution_count": 13,
   "id": "e6274d68",
   "metadata": {
    "execution": {
     "iopub.execute_input": "2023-04-11T18:31:47.016143Z",
     "iopub.status.busy": "2023-04-11T18:31:47.012819Z",
     "iopub.status.idle": "2023-04-11T18:31:47.034492Z",
     "shell.execute_reply": "2023-04-11T18:31:47.030560Z"
    },
    "papermill": {
     "duration": 0.05738,
     "end_time": "2023-04-11T18:31:47.044312",
     "exception": false,
     "start_time": "2023-04-11T18:31:46.986932",
     "status": "completed"
    },
    "tags": []
   },
   "outputs": [
    {
     "name": "stdout",
     "output_type": "stream",
     "text": [
      "Finished SVD train_multi_inputs_values\n"
     ]
    }
   ],
   "source": [
    "print(\"Finished SVD train_multi_inputs_values\")"
   ]
  },
  {
   "cell_type": "code",
   "execution_count": 14,
   "id": "da1222fa",
   "metadata": {
    "execution": {
     "iopub.execute_input": "2023-04-11T18:31:47.088510Z",
     "iopub.status.busy": "2023-04-11T18:31:47.087144Z",
     "iopub.status.idle": "2023-04-11T18:31:47.102472Z",
     "shell.execute_reply": "2023-04-11T18:31:47.098588Z"
    },
    "papermill": {
     "duration": 0.049399,
     "end_time": "2023-04-11T18:31:47.110906",
     "exception": false,
     "start_time": "2023-04-11T18:31:47.061507",
     "status": "completed"
    },
    "tags": []
   },
   "outputs": [
    {
     "name": "stdout",
     "output_type": "stream",
     "text": [
      "Starting SVD train_multi_targets_values\n"
     ]
    }
   ],
   "source": [
    "print(\"Starting SVD train_multi_targets_values\")"
   ]
  },
  {
   "cell_type": "code",
   "execution_count": 15,
   "id": "c378813f",
   "metadata": {
    "execution": {
     "iopub.execute_input": "2023-04-11T18:31:47.154687Z",
     "iopub.status.busy": "2023-04-11T18:31:47.153413Z",
     "iopub.status.idle": "2023-04-11T19:14:39.069402Z",
     "shell.execute_reply": "2023-04-11T19:14:39.068340Z"
    },
    "papermill": {
     "duration": 2571.941268,
     "end_time": "2023-04-11T19:14:39.072266",
     "exception": false,
     "start_time": "2023-04-11T18:31:47.130998",
     "status": "completed"
    },
    "tags": []
   },
   "outputs": [],
   "source": [
    "svd_targets = TruncatedSVD(n_components=500, n_iter=10, random_state=42)\n",
    "train_multi_targets_values = svd_targets.fit_transform(train_multi_targets_values)\n",
    "gc.collect()\n",
    "targets_explained_variance_ratio = svd_targets.explained_variance_ratio_"
   ]
  },
  {
   "cell_type": "code",
   "execution_count": 16,
   "id": "f6e90ef8",
   "metadata": {
    "execution": {
     "iopub.execute_input": "2023-04-11T19:14:39.085874Z",
     "iopub.status.busy": "2023-04-11T19:14:39.085115Z",
     "iopub.status.idle": "2023-04-11T19:14:56.032042Z",
     "shell.execute_reply": "2023-04-11T19:14:56.030606Z"
    },
    "papermill": {
     "duration": 16.95692,
     "end_time": "2023-04-11T19:14:56.035112",
     "exception": false,
     "start_time": "2023-04-11T19:14:39.078192",
     "status": "completed"
    },
    "tags": []
   },
   "outputs": [],
   "source": [
    "savez_compressed('train_multi_targets_500_svd.npz', train_multi_targets_values)\n",
    "savez_compressed('train_multi_targets_500_svd_VT.npz', svd_targets.components_)\n",
    "savez_compressed('train_multi_targets_500_svd_explained_variance_ratio.npz', targets_explained_variance_ratio)"
   ]
  },
  {
   "cell_type": "code",
   "execution_count": 17,
   "id": "d24ee026",
   "metadata": {
    "execution": {
     "iopub.execute_input": "2023-04-11T19:14:56.051426Z",
     "iopub.status.busy": "2023-04-11T19:14:56.049765Z",
     "iopub.status.idle": "2023-04-11T19:14:56.198730Z",
     "shell.execute_reply": "2023-04-11T19:14:56.197622Z"
    },
    "papermill": {
     "duration": 0.159245,
     "end_time": "2023-04-11T19:14:56.201646",
     "exception": false,
     "start_time": "2023-04-11T19:14:56.042401",
     "status": "completed"
    },
    "tags": []
   },
   "outputs": [
    {
     "data": {
      "text/plain": [
       "42"
      ]
     },
     "execution_count": 17,
     "metadata": {},
     "output_type": "execute_result"
    }
   ],
   "source": [
    "del targets_explained_variance_ratio\n",
    "del train_multi_targets_values\n",
    "del svd_targets\n",
    "gc.collect()"
   ]
  },
  {
   "cell_type": "code",
   "execution_count": 18,
   "id": "44c06a6c",
   "metadata": {
    "execution": {
     "iopub.execute_input": "2023-04-11T19:14:56.216184Z",
     "iopub.status.busy": "2023-04-11T19:14:56.215781Z",
     "iopub.status.idle": "2023-04-11T19:14:56.221073Z",
     "shell.execute_reply": "2023-04-11T19:14:56.219861Z"
    },
    "papermill": {
     "duration": 0.016217,
     "end_time": "2023-04-11T19:14:56.224222",
     "exception": false,
     "start_time": "2023-04-11T19:14:56.208005",
     "status": "completed"
    },
    "tags": []
   },
   "outputs": [
    {
     "name": "stdout",
     "output_type": "stream",
     "text": [
      "Finished SVD train_multi_targets_values\n"
     ]
    }
   ],
   "source": [
    "print(\"Finished SVD train_multi_targets_values\")"
   ]
  }
 ],
 "metadata": {
  "kernelspec": {
   "display_name": "Python 3",
   "language": "python",
   "name": "python3"
  },
  "language_info": {
   "codemirror_mode": {
    "name": "ipython",
    "version": 3
   },
   "file_extension": ".py",
   "mimetype": "text/x-python",
   "name": "python",
   "nbconvert_exporter": "python",
   "pygments_lexer": "ipython3",
   "version": "3.7.12"
  },
  "papermill": {
   "default_parameters": {},
   "duration": 8741.502034,
   "end_time": "2023-04-11T19:14:57.285997",
   "environment_variables": {},
   "exception": null,
   "input_path": "__notebook__.ipynb",
   "output_path": "__notebook__.ipynb",
   "parameters": {},
   "start_time": "2023-04-11T16:49:15.783963",
   "version": "2.4.0"
  }
 },
 "nbformat": 4,
 "nbformat_minor": 5
}
