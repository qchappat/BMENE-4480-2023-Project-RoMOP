{
 "cells": [
  {
   "cell_type": "code",
   "execution_count": 1,
   "id": "5522d629",
   "metadata": {
    "execution": {
     "iopub.execute_input": "2023-04-18T03:11:49.491472Z",
     "iopub.status.busy": "2023-04-18T03:11:49.491055Z",
     "iopub.status.idle": "2023-04-18T03:12:05.173137Z",
     "shell.execute_reply": "2023-04-18T03:12:05.171144Z"
    },
    "papermill": {
     "duration": 15.694862,
     "end_time": "2023-04-18T03:12:05.176644",
     "exception": false,
     "start_time": "2023-04-18T03:11:49.481782",
     "status": "completed"
    },
    "tags": []
   },
   "outputs": [],
   "source": [
    "import pickle\n",
    "with open('/kaggle/input/result-models-smlg-pickle/result_dictionnary.pickle', 'rb') as handle:\n",
    "    trained_models_with_results = pickle.load(handle)"
   ]
  },
  {
   "cell_type": "code",
   "execution_count": 2,
   "id": "c95fc181",
   "metadata": {
    "execution": {
     "iopub.execute_input": "2023-04-18T03:12:05.191085Z",
     "iopub.status.busy": "2023-04-18T03:12:05.189922Z",
     "iopub.status.idle": "2023-04-18T03:12:05.303904Z",
     "shell.execute_reply": "2023-04-18T03:12:05.302547Z"
    },
    "papermill": {
     "duration": 0.124042,
     "end_time": "2023-04-18T03:12:05.306806",
     "exception": false,
     "start_time": "2023-04-18T03:12:05.182764",
     "status": "completed"
    },
    "tags": []
   },
   "outputs": [
    {
     "data": {
      "text/plain": [
       "21"
      ]
     },
     "execution_count": 2,
     "metadata": {},
     "output_type": "execute_result"
    }
   ],
   "source": [
    "import gc\n",
    "gc.collect()"
   ]
  },
  {
   "cell_type": "code",
   "execution_count": 3,
   "id": "643b5535",
   "metadata": {
    "execution": {
     "iopub.execute_input": "2023-04-18T03:12:05.320426Z",
     "iopub.status.busy": "2023-04-18T03:12:05.319307Z",
     "iopub.status.idle": "2023-04-18T03:12:05.325742Z",
     "shell.execute_reply": "2023-04-18T03:12:05.324098Z"
    },
    "papermill": {
     "duration": 0.016475,
     "end_time": "2023-04-18T03:12:05.328776",
     "exception": false,
     "start_time": "2023-04-18T03:12:05.312301",
     "status": "completed"
    },
    "tags": []
   },
   "outputs": [],
   "source": [
    "#Import packages\n",
    "import numpy as np\n",
    "import time\n",
    "import pandas as pd"
   ]
  },
  {
   "cell_type": "code",
   "execution_count": 4,
   "id": "8a70c405",
   "metadata": {
    "execution": {
     "iopub.execute_input": "2023-04-18T03:12:05.341991Z",
     "iopub.status.busy": "2023-04-18T03:12:05.341550Z",
     "iopub.status.idle": "2023-04-18T03:12:05.349824Z",
     "shell.execute_reply": "2023-04-18T03:12:05.348060Z"
    },
    "papermill": {
     "duration": 0.018319,
     "end_time": "2023-04-18T03:12:05.352813",
     "exception": false,
     "start_time": "2023-04-18T03:12:05.334494",
     "status": "completed"
    },
    "tags": []
   },
   "outputs": [],
   "source": [
    "def mse(y_true, y_pred):\n",
    "    if type(y_true) == pd.DataFrame: y_true = y_true.values\n",
    "    if type(y_pred) == pd.DataFrame: y_pred = y_pred.values\n",
    "    sse = 0\n",
    "    for i in range(len(y_true)):\n",
    "        sse += np.sum(np.square(np.subtract(y_true[i], y_pred[i])))\n",
    "    return sse / (len(y_true)*len(y_true[0]))"
   ]
  },
  {
   "cell_type": "code",
   "execution_count": 5,
   "id": "ae23a02c",
   "metadata": {
    "execution": {
     "iopub.execute_input": "2023-04-18T03:12:05.365791Z",
     "iopub.status.busy": "2023-04-18T03:12:05.365389Z",
     "iopub.status.idle": "2023-04-18T03:12:05.374049Z",
     "shell.execute_reply": "2023-04-18T03:12:05.372415Z"
    },
    "papermill": {
     "duration": 0.018568,
     "end_time": "2023-04-18T03:12:05.376937",
     "exception": false,
     "start_time": "2023-04-18T03:12:05.358369",
     "status": "completed"
    },
    "tags": []
   },
   "outputs": [],
   "source": [
    "def correlation_score(y_true, y_pred):\n",
    "    \"\"\"Scores the predictions according to the competition rules. \n",
    "    \n",
    "    It is assumed that the predictions are not constant.\n",
    "    \n",
    "    Returns the average of each sample's Pearson correlation coefficient\"\"\"\n",
    "    if type(y_true) == pd.DataFrame: y_true = y_true.values\n",
    "    if type(y_pred) == pd.DataFrame: y_pred = y_pred.values\n",
    "    corrsum = 0\n",
    "    for i in range(len(y_true)):\n",
    "        corrsum += np.corrcoef(y_true[i], y_pred[i])[1, 0]\n",
    "    return corrsum / len(y_true)"
   ]
  },
  {
   "cell_type": "code",
   "execution_count": 6,
   "id": "4c5f70a1",
   "metadata": {
    "execution": {
     "iopub.execute_input": "2023-04-18T03:12:05.390901Z",
     "iopub.status.busy": "2023-04-18T03:12:05.390464Z",
     "iopub.status.idle": "2023-04-18T03:12:05.429432Z",
     "shell.execute_reply": "2023-04-18T03:12:05.428132Z"
    },
    "papermill": {
     "duration": 0.050101,
     "end_time": "2023-04-18T03:12:05.432556",
     "exception": false,
     "start_time": "2023-04-18T03:12:05.382455",
     "status": "completed"
    },
    "tags": []
   },
   "outputs": [],
   "source": [
    "train_multi_inputs_idxcol = np.load(\"/kaggle/input/multimodal-single-cell-as-sparse-matrix/train_multi_inputs_idxcol.npz\", allow_pickle=True)\n",
    "train_multi_targets_idxcol = np.load(\"/kaggle/input/multimodal-single-cell-as-sparse-matrix/train_multi_targets_idxcol.npz\", allow_pickle=True)"
   ]
  },
  {
   "cell_type": "code",
   "execution_count": 7,
   "id": "c027f5eb",
   "metadata": {
    "execution": {
     "iopub.execute_input": "2023-04-18T03:12:05.448292Z",
     "iopub.status.busy": "2023-04-18T03:12:05.447876Z",
     "iopub.status.idle": "2023-04-18T03:12:05.454110Z",
     "shell.execute_reply": "2023-04-18T03:12:05.452453Z"
    },
    "papermill": {
     "duration": 0.017207,
     "end_time": "2023-04-18T03:12:05.456821",
     "exception": false,
     "start_time": "2023-04-18T03:12:05.439614",
     "status": "completed"
    },
    "tags": []
   },
   "outputs": [],
   "source": [
    "input_to_keep = 40\n",
    "targets_to_keep = 40"
   ]
  },
  {
   "cell_type": "code",
   "execution_count": 8,
   "id": "6805151a",
   "metadata": {
    "execution": {
     "iopub.execute_input": "2023-04-18T03:12:05.470209Z",
     "iopub.status.busy": "2023-04-18T03:12:05.469407Z",
     "iopub.status.idle": "2023-04-18T03:12:11.872999Z",
     "shell.execute_reply": "2023-04-18T03:12:11.871790Z"
    },
    "papermill": {
     "duration": 6.413802,
     "end_time": "2023-04-18T03:12:11.876260",
     "exception": false,
     "start_time": "2023-04-18T03:12:05.462458",
     "status": "completed"
    },
    "tags": []
   },
   "outputs": [],
   "source": [
    "input_values = np.load(\"/kaggle/input/multiome-svd-500-components/train_multi_input_500_svd.npz\")[\"arr_0\"][:,:input_to_keep]\n",
    "targets_values = np.load(\"/kaggle/input/multiome-svd-500-components/train_multi_targets_500_svd.npz\")[\"arr_0\"][:,:targets_to_keep]"
   ]
  },
  {
   "cell_type": "code",
   "execution_count": 9,
   "id": "93054bdf",
   "metadata": {
    "execution": {
     "iopub.execute_input": "2023-04-18T03:12:11.889528Z",
     "iopub.status.busy": "2023-04-18T03:12:11.888507Z",
     "iopub.status.idle": "2023-04-18T03:12:12.200015Z",
     "shell.execute_reply": "2023-04-18T03:12:12.198720Z"
    },
    "papermill": {
     "duration": 0.321226,
     "end_time": "2023-04-18T03:12:12.202888",
     "exception": false,
     "start_time": "2023-04-18T03:12:11.881662",
     "status": "completed"
    },
    "tags": []
   },
   "outputs": [
    {
     "data": {
      "text/plain": [
       "53"
      ]
     },
     "execution_count": 9,
     "metadata": {},
     "output_type": "execute_result"
    }
   ],
   "source": [
    "input_df = pd.DataFrame(data = input_values, \n",
    "                  index = train_multi_inputs_idxcol[\"index\"], \n",
    "                  columns = [str(i)+\"_input\" for i in range(input_to_keep)])\n",
    "targets_df = pd.DataFrame(data = targets_values, \n",
    "                  index = train_multi_targets_idxcol[\"index\"], \n",
    "                  columns = [str(i)+\"_targets\" for i in range(targets_to_keep)])\n",
    "del input_values\n",
    "del targets_values\n",
    "del input_to_keep\n",
    "gc.collect()"
   ]
  },
  {
   "cell_type": "code",
   "execution_count": 10,
   "id": "e79809b7",
   "metadata": {
    "execution": {
     "iopub.execute_input": "2023-04-18T03:12:12.217867Z",
     "iopub.status.busy": "2023-04-18T03:12:12.216377Z",
     "iopub.status.idle": "2023-04-18T03:12:13.048735Z",
     "shell.execute_reply": "2023-04-18T03:12:13.047317Z"
    },
    "papermill": {
     "duration": 0.84305,
     "end_time": "2023-04-18T03:12:13.051766",
     "exception": false,
     "start_time": "2023-04-18T03:12:12.208716",
     "status": "completed"
    },
    "tags": []
   },
   "outputs": [],
   "source": [
    "# Reading the metadata file\n",
    "metadata = pd.read_csv(\"/kaggle/input/open-problems-multimodal/metadata.csv\")\n",
    "# Keeping the metadata of our citeSeq data and droping useless column\n",
    "metadata = metadata[metadata[\"cell_id\"].isin(train_multi_inputs_idxcol[\"index\"])].drop([\"technology\"], axis=1)\n",
    "# One Hot encoding for cell-types\n",
    "df_cell_type_dummies = pd.get_dummies(metadata.cell_type)\n",
    "metadata = metadata.drop([\"cell_type\"], axis=1)\n",
    "metadata[\"group\"] = metadata[\"day\"].astype(str)+\"_\"+metadata[\"donor\"].astype(str)"
   ]
  },
  {
   "cell_type": "code",
   "execution_count": 11,
   "id": "ca06066d",
   "metadata": {
    "execution": {
     "iopub.execute_input": "2023-04-18T03:12:13.065749Z",
     "iopub.status.busy": "2023-04-18T03:12:13.065357Z",
     "iopub.status.idle": "2023-04-18T03:12:13.545340Z",
     "shell.execute_reply": "2023-04-18T03:12:13.544129Z"
    },
    "papermill": {
     "duration": 0.490333,
     "end_time": "2023-04-18T03:12:13.548405",
     "exception": false,
     "start_time": "2023-04-18T03:12:13.058072",
     "status": "completed"
    },
    "tags": []
   },
   "outputs": [],
   "source": [
    "df_database = metadata.join(df_cell_type_dummies).join(input_df, on=\"cell_id\").join(targets_df, on=\"cell_id\")\n",
    "groups = np.unique(metadata[\"group\"])\n",
    "del df_cell_type_dummies\n",
    "del input_df\n",
    "del targets_df\n",
    "del train_multi_inputs_idxcol\n",
    "del metadata\n",
    "gc.collect()\n",
    "df_train = df_database[df_database[\"day\"]!=7]"
   ]
  },
  {
   "cell_type": "code",
   "execution_count": 12,
   "id": "27d68e34",
   "metadata": {
    "execution": {
     "iopub.execute_input": "2023-04-18T03:12:13.561928Z",
     "iopub.status.busy": "2023-04-18T03:12:13.561481Z",
     "iopub.status.idle": "2023-04-18T03:12:14.475554Z",
     "shell.execute_reply": "2023-04-18T03:12:14.474025Z"
    },
    "papermill": {
     "duration": 0.924131,
     "end_time": "2023-04-18T03:12:14.478501",
     "exception": false,
     "start_time": "2023-04-18T03:12:13.554370",
     "status": "completed"
    },
    "tags": []
   },
   "outputs": [
    {
     "data": {
      "text/plain": [
       "29"
      ]
     },
     "execution_count": 12,
     "metadata": {},
     "output_type": "execute_result"
    }
   ],
   "source": [
    "train_multi_targets_500_svd_VT = np.load(\"/kaggle/input/multiome-svd-500-components/train_multi_targets_500_svd_VT.npz\")[\"arr_0\"][:targets_to_keep,:]\n",
    "del targets_to_keep\n",
    "gc.collect()"
   ]
  },
  {
   "cell_type": "code",
   "execution_count": 13,
   "id": "0962b859",
   "metadata": {
    "execution": {
     "iopub.execute_input": "2023-04-18T03:12:14.492096Z",
     "iopub.status.busy": "2023-04-18T03:12:14.491481Z",
     "iopub.status.idle": "2023-04-18T03:12:14.498561Z",
     "shell.execute_reply": "2023-04-18T03:12:14.497244Z"
    },
    "papermill": {
     "duration": 0.017162,
     "end_time": "2023-04-18T03:12:14.501416",
     "exception": false,
     "start_time": "2023-04-18T03:12:14.484254",
     "status": "completed"
    },
    "tags": []
   },
   "outputs": [],
   "source": [
    "combs_donors = [[13176], [31800], [32606], [13176, 31800], [31800, 32606], [13176, 32606], [13176, 31800, 32606]]"
   ]
  },
  {
   "cell_type": "code",
   "execution_count": 14,
   "id": "97609729",
   "metadata": {
    "execution": {
     "iopub.execute_input": "2023-04-18T03:12:14.516413Z",
     "iopub.status.busy": "2023-04-18T03:12:14.515920Z",
     "iopub.status.idle": "2023-04-18T03:12:14.522977Z",
     "shell.execute_reply": "2023-04-18T03:12:14.521342Z"
    },
    "papermill": {
     "duration": 0.018402,
     "end_time": "2023-04-18T03:12:14.525654",
     "exception": false,
     "start_time": "2023-04-18T03:12:14.507252",
     "status": "completed"
    },
    "tags": []
   },
   "outputs": [],
   "source": [
    "models = [\n",
    "    'Linear Regression',\n",
    "    'ElasticNet',\n",
    "    'Ridge Regression',\n",
    "    'Lasso',\n",
    "    'BayesianRidge',\n",
    "    'ARDRegression'\n",
    "    ]"
   ]
  },
  {
   "cell_type": "markdown",
   "id": "c9b67c5f",
   "metadata": {
    "papermill": {
     "duration": 0.005307,
     "end_time": "2023-04-18T03:12:14.536682",
     "exception": false,
     "start_time": "2023-04-18T03:12:14.531375",
     "status": "completed"
    },
    "tags": []
   },
   "source": [
    "# 1. Testing our models results on data"
   ]
  },
  {
   "cell_type": "code",
   "execution_count": 15,
   "id": "2ac1a4a0",
   "metadata": {
    "execution": {
     "iopub.execute_input": "2023-04-18T03:12:14.550080Z",
     "iopub.status.busy": "2023-04-18T03:12:14.549577Z",
     "iopub.status.idle": "2023-04-18T07:47:45.344821Z",
     "shell.execute_reply": "2023-04-18T07:47:45.342580Z"
    },
    "papermill": {
     "duration": 16530.820297,
     "end_time": "2023-04-18T07:47:45.362532",
     "exception": false,
     "start_time": "2023-04-18T03:12:14.542235",
     "status": "completed"
    },
    "tags": []
   },
   "outputs": [
    {
     "name": "stdout",
     "output_type": "stream",
     "text": [
      "Test on [13176] from model: Linear Regression\n",
      "Testing on train data\n",
      "MSE Train: 2.0079933571407973\n",
      "Pearson Train: 0.6774791943165258\n",
      "Testing on train data over - Testing on test data\n",
      "MSE Test: 2.0634971667293285\n",
      "Pearson Test: 0.6534106182190976\n",
      "Test on [13176] from model: ElasticNet\n",
      "Testing on train data\n",
      "MSE Train: 2.033119657800535\n",
      "Pearson Train: 0.6733163363116472\n",
      "Testing on train data over - Testing on test data\n",
      "MSE Test: 2.1063749909146843\n",
      "Pearson Test: 0.6464517590547172\n",
      "Test on [13176] from model: Ridge Regression\n",
      "Testing on train data\n",
      "MSE Train: 2.0080587203087044\n",
      "Pearson Train: 0.6774593556030049\n",
      "Testing on train data over - Testing on test data\n",
      "MSE Test: 2.0640543744778315\n",
      "Pearson Test: 0.6532929651066602\n",
      "Test on [13176] from model: Lasso\n",
      "Testing on train data\n",
      "MSE Train: 2.009180220261093\n",
      "Pearson Train: 0.677230377906204\n",
      "Testing on train data over - Testing on test data\n",
      "MSE Test: 2.0669969601464575\n",
      "Pearson Test: 0.652735770763913\n",
      "Test on [13176] from model: BayesianRidge\n",
      "Testing on train data\n",
      "MSE Train: 2.0079934160450077\n",
      "Pearson Train: 0.6774787322424177\n",
      "Testing on train data over - Testing on test data\n",
      "MSE Test: 2.063526597358404\n",
      "Pearson Test: 0.6534059249920049\n",
      "Test on [13176] from model: ARDRegression\n",
      "Testing on train data\n",
      "MSE Train: 2.007998887524177\n",
      "Pearson Train: 0.6774778172925748\n",
      "Testing on train data over - Testing on test data\n",
      "MSE Test: 2.063600330752361\n",
      "Pearson Test: 0.6533951606526331\n",
      "Test on [31800] from model: Linear Regression\n",
      "Testing on train data\n",
      "MSE Train: 2.0370394802289735\n",
      "Pearson Train: 0.6733238913515726\n",
      "Testing on train data over - Testing on test data\n",
      "MSE Test: 2.0477173193520963\n",
      "Pearson Test: 0.6553759314771161\n",
      "Test on [31800] from model: ElasticNet\n",
      "Testing on train data\n",
      "MSE Train: 2.059672869781734\n",
      "Pearson Train: 0.6695434280631729\n",
      "Testing on train data over - Testing on test data\n",
      "MSE Test: 2.0875296515884934\n",
      "Pearson Test: 0.6489919262006538\n",
      "Test on [31800] from model: Ridge Regression\n",
      "Testing on train data\n",
      "MSE Train: 2.037458170239953\n",
      "Pearson Train: 0.6732346634949089\n",
      "Testing on train data over - Testing on test data\n",
      "MSE Test: 2.0489486781069903\n",
      "Pearson Test: 0.6551207444260349\n",
      "Test on [31800] from model: Lasso\n",
      "Testing on train data\n",
      "MSE Train: 2.0388016014409223\n",
      "Pearson Train: 0.6729616743064606\n",
      "Testing on train data over - Testing on test data\n",
      "MSE Test: 2.052014424243914\n",
      "Pearson Test: 0.6545855177605197\n",
      "Test on [31800] from model: BayesianRidge\n",
      "Testing on train data\n",
      "MSE Train: 2.0370393654420704\n",
      "Pearson Train: 0.6733233355350828\n",
      "Testing on train data over - Testing on test data\n",
      "MSE Test: 2.047757984099258\n",
      "Pearson Test: 0.6553702379084796\n",
      "Test on [31800] from model: ARDRegression\n",
      "Testing on train data\n",
      "MSE Train: 2.037041951791467\n",
      "Pearson Train: 0.6733234613279488\n",
      "Testing on train data over - Testing on test data\n",
      "MSE Test: 2.0478762551133447\n",
      "Pearson Test: 0.6553668010850858\n",
      "Test on [32606] from model: Linear Regression\n",
      "Testing on train data\n",
      "MSE Train: 2.007419171480118\n",
      "Pearson Train: 0.6781668428000279\n",
      "Testing on train data over - Testing on test data\n",
      "MSE Test: 2.061481851347245\n",
      "Pearson Test: 0.6538816016518748\n",
      "Test on [32606] from model: ElasticNet\n",
      "Testing on train data\n",
      "MSE Train: 2.0333749669401233\n",
      "Pearson Train: 0.6736759459621663\n",
      "Testing on train data over - Testing on test data\n",
      "MSE Test: 2.101545609100768\n",
      "Pearson Test: 0.6475914559821763\n",
      "Test on [32606] from model: Ridge Regression\n",
      "Testing on train data\n",
      "MSE Train: 2.0078471133813687\n",
      "Pearson Train: 0.6780773265582765\n",
      "Testing on train data over - Testing on test data\n",
      "MSE Test: 2.062719027609976\n",
      "Pearson Test: 0.6536319398061813\n",
      "Test on [32606] from model: Lasso\n",
      "Testing on train data\n",
      "MSE Train: 2.008443845777308\n",
      "Pearson Train: 0.6779551588445397\n",
      "Testing on train data over - Testing on test data\n",
      "MSE Test: 2.0639798989579576\n",
      "Pearson Test: 0.6534182949288213\n",
      "Test on [32606] from model: BayesianRidge\n",
      "Testing on train data\n",
      "MSE Train: 2.007418985242622\n",
      "Pearson Train: 0.6781666398281312\n",
      "Testing on train data over - Testing on test data\n",
      "MSE Test: 2.0615142120230296\n",
      "Pearson Test: 0.6538786114438394\n",
      "Test on [32606] from model: ARDRegression\n",
      "Testing on train data\n",
      "MSE Train: 2.0074230637519994\n",
      "Pearson Train: 0.6781657400628825\n",
      "Testing on train data over - Testing on test data\n",
      "MSE Test: 2.0615159615950933\n",
      "Pearson Test: 0.6538816080570091\n",
      "Test on [13176, 31800] from model: Linear Regression\n",
      "Testing on train data\n",
      "MSE Train: 2.024605537533312\n",
      "Pearson Train: 0.6750674015267505\n",
      "Testing on train data over - Testing on test data\n",
      "MSE Test: 2.0626068925658507\n",
      "Pearson Test: 0.6443729018308432\n",
      "Test on [13176, 31800] from model: ElasticNet\n",
      "Testing on train data\n",
      "MSE Train: 2.0496865919864695\n",
      "Pearson Train: 0.6708374531681648\n",
      "Testing on train data over - Testing on test data\n",
      "MSE Test: 2.112940469612603\n",
      "Pearson Test: 0.6363980288877871\n",
      "Test on [13176, 31800] from model: Ridge Regression\n",
      "Testing on train data\n",
      "MSE Train: 2.0246365254258283\n",
      "Pearson Train: 0.675057008123076\n",
      "Testing on train data over - Testing on test data\n",
      "MSE Test: 2.063226090649443\n",
      "Pearson Test: 0.6442741299119783\n",
      "Test on [13176, 31800] from model: Lasso\n",
      "Testing on train data\n",
      "MSE Train: 2.0254040657271544\n",
      "Pearson Train: 0.6748976295929421\n",
      "Testing on train data over - Testing on test data\n",
      "MSE Test: 2.0669319575257563\n",
      "Pearson Test: 0.6436977126469284\n",
      "Test on [13176, 31800] from model: BayesianRidge\n",
      "Testing on train data\n",
      "MSE Train: 2.0246054872571118\n",
      "Pearson Train: 0.6750671668585201\n",
      "Testing on train data over - Testing on test data\n",
      "MSE Test: 2.0626303990484427\n",
      "Pearson Test: 0.6443700908125202\n",
      "Test on [13176, 31800] from model: ARDRegression\n",
      "Testing on train data\n",
      "MSE Train: 2.024606436335348\n",
      "Pearson Train: 0.6750669594095181\n",
      "Testing on train data over - Testing on test data\n",
      "MSE Test: 2.0626908716643375\n",
      "Pearson Test: 0.6443647113301243\n",
      "Test on [31800, 32606] from model: Linear Regression\n",
      "Testing on train data\n",
      "MSE Train: 2.0244953728298656\n",
      "Pearson Train: 0.6753516953775522\n",
      "Testing on train data over - Testing on test data\n",
      "MSE Test: 2.064439253313488\n",
      "Pearson Test: 0.6443776095088533\n",
      "Test on [31800, 32606] from model: ElasticNet\n",
      "Testing on train data\n",
      "MSE Train: 2.0482385616221404\n",
      "Pearson Train: 0.6713232135333086\n",
      "Testing on train data over - Testing on test data\n",
      "MSE Test: 2.114490428751953\n",
      "Pearson Test: 0.6365393636010372\n",
      "Test on [31800, 32606] from model: Ridge Regression\n",
      "Testing on train data\n",
      "MSE Train: 2.024530047375274\n",
      "Pearson Train: 0.6753408754372144\n",
      "Testing on train data over - Testing on test data\n",
      "MSE Test: 2.0651033741012426\n",
      "Pearson Test: 0.6442698498152274\n",
      "Test on [31800, 32606] from model: Lasso\n",
      "Testing on train data\n",
      "MSE Train: 2.0252803621290454\n",
      "Pearson Train: 0.6751886367618134\n",
      "Testing on train data over - Testing on test data\n",
      "MSE Test: 2.0688583325521375\n",
      "Pearson Test: 0.6437145567771679\n",
      "Test on [31800, 32606] from model: BayesianRidge\n",
      "Testing on train data\n",
      "MSE Train: 2.0244950649913056\n",
      "Pearson Train: 0.6753514859488232\n",
      "Testing on train data over - Testing on test data\n",
      "MSE Test: 2.064475255375639\n",
      "Pearson Test: 0.6443728084749308\n",
      "Test on [31800, 32606] from model: ARDRegression\n",
      "Testing on train data\n",
      "MSE Train: 2.0245002483544883\n",
      "Pearson Train: 0.6753509984616701\n",
      "Testing on train data over - Testing on test data\n",
      "MSE Test: 2.0645090315475874\n",
      "Pearson Test: 0.6443717345648412\n",
      "Test on [13176, 32606] from model: Linear Regression\n",
      "Testing on train data\n",
      "MSE Train: 2.009463446937808\n",
      "Pearson Train: 0.6775037434696873\n",
      "Testing on train data over - Testing on test data\n",
      "MSE Test: 2.078039324443443\n",
      "Pearson Test: 0.6432944266074584\n",
      "Test on [13176, 32606] from model: ElasticNet\n",
      "Testing on train data\n",
      "MSE Train: 2.036254322079721\n",
      "Pearson Train: 0.6729276966312613\n",
      "Testing on train data over - Testing on test data\n",
      "MSE Test: 2.129356825311248\n",
      "Pearson Test: 0.6352369127883084\n",
      "Test on [13176, 32606] from model: Ridge Regression\n",
      "Testing on train data\n",
      "MSE Train: 2.0095106414533888\n",
      "Pearson Train: 0.677490296653453\n",
      "Testing on train data over - Testing on test data\n",
      "MSE Test: 2.078709130514172\n",
      "Pearson Test: 0.6431787172369258\n",
      "Test on [13176, 32606] from model: Lasso\n",
      "Testing on train data\n",
      "MSE Train: 2.0103754341158715\n",
      "Pearson Train: 0.6773108302502264\n",
      "Testing on train data over - Testing on test data\n",
      "MSE Test: 2.082028882759109\n",
      "Pearson Test: 0.642618983526603\n",
      "Test on [13176, 32606] from model: BayesianRidge\n",
      "Testing on train data\n",
      "MSE Train: 2.0094633693714603\n",
      "Pearson Train: 0.6775035165900558\n",
      "Testing on train data over - Testing on test data\n",
      "MSE Test: 2.07806385856325\n",
      "Pearson Test: 0.6432911688593781\n",
      "Test on [13176, 32606] from model: ARDRegression\n",
      "Testing on train data\n",
      "MSE Train: 2.0094643221980215\n",
      "Pearson Train: 0.677503331344975\n",
      "Testing on train data over - Testing on test data\n",
      "MSE Test: 2.078049243797961\n",
      "Pearson Test: 0.6432972614397094\n",
      "Test on [13176, 31800, 32606] from model: Linear Regression\n",
      "Testing on train data\n",
      "MSE Train: 2.020334482305548\n",
      "Pearson Train: 0.6758345115454488\n",
      "Testing on train data over - Testing on test data\n",
      "MSE Test: 2.1210274333961756\n",
      "Pearson Test: 0.6052833701323501\n",
      "Test on [13176, 31800, 32606] from model: ElasticNet\n",
      "Testing on train data\n",
      "MSE Train: 2.0461006107690216\n",
      "Pearson Train: 0.6714382443737597\n",
      "Testing on train data over - Testing on test data\n",
      "MSE Test: 2.203783281553336\n",
      "Pearson Test: 0.5926950008094783\n",
      "Test on [13176, 31800, 32606] from model: Ridge Regression\n",
      "Testing on train data\n",
      "MSE Train: 2.0203539037773552\n",
      "Pearson Train: 0.675827838160073\n",
      "Testing on train data over - Testing on test data\n",
      "MSE Test: 2.1218328282019296\n",
      "Pearson Test: 0.6052111438600246\n",
      "Test on [13176, 31800, 32606] from model: Lasso\n",
      "Testing on train data\n",
      "MSE Train: 2.020598645970794\n",
      "Pearson Train: 0.6757681712069374\n",
      "Testing on train data over - Testing on test data\n",
      "MSE Test: 2.125697881495638\n",
      "Pearson Test: 0.6043722310044713\n",
      "Test on [13176, 31800, 32606] from model: BayesianRidge\n",
      "Testing on train data\n",
      "MSE Train: 2.0203342874005124\n",
      "Pearson Train: 0.6758343798466299\n",
      "Testing on train data over - Testing on test data\n",
      "MSE Test: 2.1210613543991137\n",
      "Pearson Test: 0.6052800108724815\n",
      "Test on [13176, 31800, 32606] from model: ARDRegression\n",
      "Testing on train data\n",
      "MSE Train: 2.0203353157891657\n",
      "Pearson Train: 0.6758341853494069\n",
      "Testing on train data over - Testing on test data\n",
      "MSE Test: 2.1211332928576985\n",
      "Pearson Test: 0.605272188988438\n"
     ]
    }
   ],
   "source": [
    "for comb_donor in combs_donors:\n",
    "    gc.collect()\n",
    "    for model in models:\n",
    "        gc.collect()\n",
    "        print(\"Test on\", comb_donor, \"from model:\", model)\n",
    "        print(\"Testing on train data\")\n",
    "        time.sleep(3)\n",
    "        gc.collect()\n",
    "        time.sleep(3)\n",
    "        df_train_temp = df_train[df_train[\"donor\"].isin(comb_donor)]\n",
    "        time.sleep(3)\n",
    "        gc.collect()\n",
    "        time.sleep(3)\n",
    "        df_real_target_train = pd.read_hdf(\"/kaggle/input/open-problems-multimodal/train_multi_targets.h5\").loc[df_train_temp[\"cell_id\"]]\n",
    "        time.sleep(3)\n",
    "        gc.collect()\n",
    "        time.sleep(3)\n",
    "        del df_train_temp\n",
    "        time.sleep(3)\n",
    "        gc.collect()\n",
    "        time.sleep(3)\n",
    "        train_predictions = np.dot(trained_models_with_results[str(comb_donor)][model][\"train_predictions\"].T, train_multi_targets_500_svd_VT)\n",
    "        time.sleep(3)\n",
    "        gc.collect()\n",
    "        time.sleep(3)\n",
    "        mse_train = mse(df_real_target_train, train_predictions)\n",
    "        time.sleep(3)\n",
    "        gc.collect()\n",
    "        time.sleep(3)\n",
    "        pearson_train = correlation_score(df_real_target_train, train_predictions)\n",
    "        del train_predictions\n",
    "        del df_real_target_train\n",
    "        print(\"MSE Train:\", mse_train)\n",
    "        print(\"Pearson Train:\", pearson_train)\n",
    "        print(\"Testing on train data over - Testing on test data\")\n",
    "        time.sleep(3)\n",
    "        gc.collect()\n",
    "        time.sleep(3)\n",
    "        df_train_temp = df_train[df_train[\"donor\"].isin(comb_donor)]\n",
    "        df_test_temp = df_database[df_database[\"cell_id\"].isin(df_train_temp[\"cell_id\"])==False]\n",
    "        del df_train_temp\n",
    "        time.sleep(3)\n",
    "        gc.collect()\n",
    "        time.sleep(3)\n",
    "        df_real_targets_test = pd.read_hdf(\"/kaggle/input/open-problems-multimodal/train_multi_targets.h5\").loc[df_test_temp[\"cell_id\"]]\n",
    "        time.sleep(3)\n",
    "        gc.collect()\n",
    "        time.sleep(3)\n",
    "        del df_test_temp\n",
    "        time.sleep(3)\n",
    "        gc.collect()\n",
    "        time.sleep(3)\n",
    "        test_predictions = np.dot(trained_models_with_results[str(comb_donor)][model][\"test_predictions\"].T, train_multi_targets_500_svd_VT)\n",
    "        time.sleep(3)\n",
    "        gc.collect()\n",
    "        time.sleep(3)\n",
    "        mse_test = mse(df_real_targets_test, test_predictions)\n",
    "        time.sleep(3)\n",
    "        gc.collect()\n",
    "        time.sleep(3)\n",
    "        pearson_test = correlation_score(df_real_targets_test, test_predictions)\n",
    "        del df_real_targets_test\n",
    "        del test_predictions\n",
    "        time.sleep(3)\n",
    "        gc.collect()\n",
    "        time.sleep(3)\n",
    "        print(\"MSE Test:\", mse_test)\n",
    "        print(\"Pearson Test:\", pearson_test)"
   ]
  },
  {
   "cell_type": "code",
   "execution_count": 16,
   "id": "99200c38",
   "metadata": {
    "execution": {
     "iopub.execute_input": "2023-04-18T07:47:45.394404Z",
     "iopub.status.busy": "2023-04-18T07:47:45.393866Z",
     "iopub.status.idle": "2023-04-18T07:47:45.546815Z",
     "shell.execute_reply": "2023-04-18T07:47:45.545243Z"
    },
    "papermill": {
     "duration": 0.173812,
     "end_time": "2023-04-18T07:47:45.550490",
     "exception": false,
     "start_time": "2023-04-18T07:47:45.376678",
     "status": "completed"
    },
    "tags": []
   },
   "outputs": [
    {
     "data": {
      "text/plain": [
       "21"
      ]
     },
     "execution_count": 16,
     "metadata": {},
     "output_type": "execute_result"
    }
   ],
   "source": [
    "gc.collect()"
   ]
  },
  {
   "cell_type": "markdown",
   "id": "741a4071",
   "metadata": {
    "papermill": {
     "duration": 0.013228,
     "end_time": "2023-04-18T07:47:45.577051",
     "exception": false,
     "start_time": "2023-04-18T07:47:45.563823",
     "status": "completed"
    },
    "tags": []
   },
   "source": [
    "# 2. Finding the maximum scoring we can have by comparing the TruncatedSVD's targets to real data"
   ]
  },
  {
   "cell_type": "code",
   "execution_count": 17,
   "id": "c7d0767b",
   "metadata": {
    "execution": {
     "iopub.execute_input": "2023-04-18T07:47:45.606730Z",
     "iopub.status.busy": "2023-04-18T07:47:45.606226Z",
     "iopub.status.idle": "2023-04-18T08:31:32.845065Z",
     "shell.execute_reply": "2023-04-18T08:31:32.842471Z"
    },
    "papermill": {
     "duration": 2627.277172,
     "end_time": "2023-04-18T08:31:32.867580",
     "exception": false,
     "start_time": "2023-04-18T07:47:45.590408",
     "status": "completed"
    },
    "tags": []
   },
   "outputs": [
    {
     "name": "stdout",
     "output_type": "stream",
     "text": [
      "Test on [13176] for max value\n",
      "Testing on train data\n",
      "MSE Train: 1.9196821889867746\n",
      "Pearson Train: 0.6890853888563644\n",
      "Testing on train data over - Testing on test data\n",
      "MSE Test: 1.9267642844175619\n",
      "Pearson Test: 0.6741239522465106\n",
      "Test on [31800] for max value\n",
      "Testing on train data\n",
      "MSE Train: 1.9329019310444036\n",
      "Pearson Train: 0.6866911067524338\n",
      "Testing on train data over - Testing on test data\n",
      "MSE Test: 1.9218530145939359\n",
      "Pearson Test: 0.6747890761066963\n",
      "Test on [32606] for max value\n",
      "Testing on train data\n",
      "MSE Train: 1.9206671035776006\n",
      "Pearson Train: 0.6898810868739786\n",
      "Testing on train data over - Testing on test data\n",
      "MSE Test: 1.926325423638778\n",
      "Pearson Test: 0.6740799046642877\n",
      "Test on [13176, 31800] for max value\n",
      "Testing on train data\n",
      "MSE Train: 1.9264377528257797\n",
      "Pearson Train: 0.6878618607775832\n",
      "Testing on train data over - Testing on test data\n",
      "MSE Test: 1.9230948710797728\n",
      "Pearson Test: 0.6666106353083232\n",
      "Test on [31800, 32606] for max value\n",
      "Testing on train data\n",
      "MSE Train: 1.9270522703741053\n",
      "Pearson Train: 0.6882162856980808\n",
      "Testing on train data over - Testing on test data\n",
      "MSE Test: 1.9224871113404733\n",
      "Pearson Test: 0.6667195036055281\n",
      "Test on [13176, 32606] for max value\n",
      "Testing on train data\n",
      "MSE Train: 1.9201639361849836\n",
      "Pearson Train: 0.6894745853351016\n",
      "Testing on train data over - Testing on test data\n",
      "MSE Test: 1.9299443416202966\n",
      "Pearson Test: 0.6659056312254151\n",
      "Test on [13176, 31800, 32606] for max value\n",
      "Testing on train data\n",
      "MSE Train: 1.9245976272409293\n",
      "Pearson Train: 0.6885057449302572\n",
      "Testing on train data over - Testing on test data\n",
      "MSE Test: 1.926034864322033\n",
      "Pearson Test: 0.6384304367159415\n"
     ]
    }
   ],
   "source": [
    "for comb_donor in combs_donors:\n",
    "    gc.collect()\n",
    "    print(\"Test on\", str(comb_donor), \"for max value\")\n",
    "    print(\"Testing on train data\")\n",
    "    gc.collect()\n",
    "    df_train_temp = df_train[df_train[\"donor\"].isin(comb_donor)]\n",
    "    gc.collect()\n",
    "    df_real_target_train = pd.read_hdf(\"/kaggle/input/open-problems-multimodal/train_multi_targets.h5\").loc[df_train_temp[\"cell_id\"]]\n",
    "    gc.collect() \n",
    "    train_max_predictions = pd.DataFrame(data = np.dot(df_database[df_database.columns[-40:]].to_numpy(),train_multi_targets_500_svd_VT), \n",
    "                                         index = train_multi_targets_idxcol[\"index\"], \n",
    "                                         columns = train_multi_targets_idxcol[\"columns\"]).loc[df_train_temp[\"cell_id\"]]\n",
    "    gc.collect()\n",
    "    del df_train_temp\n",
    "    gc.collect()\n",
    "    mse_train = mse(df_real_target_train, train_max_predictions)\n",
    "    gc.collect()\n",
    "    pearson_train = correlation_score(df_real_target_train, train_max_predictions)\n",
    "    del train_max_predictions\n",
    "    del df_real_target_train\n",
    "    print(\"MSE Train:\", mse_train)\n",
    "    print(\"Pearson Train:\", pearson_train)\n",
    "    print(\"Testing on train data over - Testing on test data\")\n",
    "    gc.collect()\n",
    "    df_train_temp = df_train[df_train[\"donor\"].isin(comb_donor)]\n",
    "    df_test_temp = df_database[df_database[\"cell_id\"].isin(df_train_temp[\"cell_id\"])==False]\n",
    "    del df_train_temp\n",
    "    gc.collect()\n",
    "    df_real_targets_test = pd.read_hdf(\"/kaggle/input/open-problems-multimodal/train_multi_targets.h5\").loc[df_test_temp[\"cell_id\"]]\n",
    "    gc.collect()\n",
    "    test_max_predictions = pd.DataFrame(data = np.dot(df_database[df_database.columns[-40:]].to_numpy(),train_multi_targets_500_svd_VT),\n",
    "                                         index = train_multi_targets_idxcol[\"index\"],\n",
    "                                         columns = train_multi_targets_idxcol[\"columns\"]).loc[df_test_temp[\"cell_id\"]]\n",
    "    gc.collect()\n",
    "    del df_test_temp\n",
    "    gc.collect()\n",
    "    mse_test = mse(df_real_targets_test, test_max_predictions)\n",
    "    gc.collect()\n",
    "    pearson_test = correlation_score(df_real_targets_test, test_max_predictions)\n",
    "    del test_max_predictions\n",
    "    del df_real_targets_test\n",
    "    gc.collect()\n",
    "    print(\"MSE Test:\", mse_test)\n",
    "    print(\"Pearson Test:\", pearson_test)"
   ]
  }
 ],
 "metadata": {
  "kernelspec": {
   "display_name": "Python 3",
   "language": "python",
   "name": "python3"
  },
  "language_info": {
   "codemirror_mode": {
    "name": "ipython",
    "version": 3
   },
   "file_extension": ".py",
   "mimetype": "text/x-python",
   "name": "python",
   "nbconvert_exporter": "python",
   "pygments_lexer": "ipython3",
   "version": "3.7.12"
  },
  "papermill": {
   "default_parameters": {},
   "duration": 19196.278602,
   "end_time": "2023-04-18T08:31:34.486329",
   "environment_variables": {},
   "exception": null,
   "input_path": "__notebook__.ipynb",
   "output_path": "__notebook__.ipynb",
   "parameters": {},
   "start_time": "2023-04-18T03:11:38.207727",
   "version": "2.4.0"
  }
 },
 "nbformat": 4,
 "nbformat_minor": 5
}
